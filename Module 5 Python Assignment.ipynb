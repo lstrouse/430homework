{
 "cells": [
  {
   "cell_type": "markdown",
   "metadata": {},
   "source": [
    "# MSDS 430 Module 5 Python Assignment"
   ]
  },
  {
   "cell_type": "markdown",
   "metadata": {},
   "source": [
    "#### In this assignment you will complete the following exercises and submit your notebook (ipynb file) to Canvas. Your file should include all output, i.e. run each cell and save your file before submitting."
   ]
  },
  {
   "cell_type": "markdown",
   "metadata": {},
   "source": [
    "<font color=green> One aspect of data science is working with data from files. In this assignment we will learn to read in a text file and extract some useful information. In addition to extracting information from an existing file, we will be creating a text file, appending to that file, and performing some calculations with the data. Later in the course we'll learn more about how to display this information neatly and manipulate the data more efficiently, but for now we start by learning the basics of reading and writing text files.  </font>"
   ]
  },
  {
   "cell_type": "markdown",
   "metadata": {},
   "source": [
    "Problem 1 (6 pts.): The file `pitching_stats.txt` contains a `YTD` snapshot of `MLB` pitching stats for the top ten pitchers based on ERA around mid-season in 2018. The columns in the file correspond to `[name, team, games won, games lost, ERA, games pitched, innings pitched]`. Read the file and print the following for each line:\n",
    "\n",
    "`\" < rank > < team > 'pitcher' < name > 'has an ERA of' < ERA >\"`<br>\n",
    "\n",
    "For example, line 1 should look like this: <br>\n",
    "\n",
    "`1 NYM pitcher Degrom has an ERA of 1.81`"
   ]
  },
  {
   "cell_type": "code",
   "execution_count": null,
   "metadata": {},
   "outputs": [],
   "source": []
  },
  {
   "cell_type": "markdown",
   "metadata": {},
   "source": [
    "Problem 2 (6 pts.): Write a program to calculate the area of a `circle` with radius `n`, where `n` ranges from `1` to `15`, and write the results to a file: `circles_<lastname\\>.txt`. The file your prgoram creates should consists of  `15` lines altogether. <br><br> For example, this should be the first two lines of your file:\n",
    "\n",
    "`The area of a circle with radius 1 equals 6.283185307179586`<br>\n",
    "`The area of a circle with radius 2 equals 12.566370614359172`"
   ]
  },
  {
   "cell_type": "code",
   "execution_count": null,
   "metadata": {},
   "outputs": [],
   "source": []
  },
  {
   "cell_type": "markdown",
   "metadata": {},
   "source": [
    "Problem 3 (6 pts): Append `10` lines to your `circles.txt` file that will now calculate the volume for `radius = 1, ..., 10`. Use wording for each line that is similar to the previous problem."
   ]
  },
  {
   "cell_type": "code",
   "execution_count": null,
   "metadata": {},
   "outputs": [],
   "source": []
  }
 ],
 "metadata": {
  "kernelspec": {
   "display_name": "Python 3",
   "language": "python",
   "name": "python3"
  },
  "language_info": {
   "codemirror_mode": {
    "name": "ipython",
    "version": 3
   },
   "file_extension": ".py",
   "mimetype": "text/x-python",
   "name": "python",
   "nbconvert_exporter": "python",
   "pygments_lexer": "ipython3",
   "version": "3.6.5"
  }
 },
 "nbformat": 4,
 "nbformat_minor": 2
}
