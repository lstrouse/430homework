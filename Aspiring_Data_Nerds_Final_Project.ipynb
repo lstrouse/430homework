{
  "nbformat": 4,
  "nbformat_minor": 0,
  "metadata": {
    "colab": {
      "name": "Aspiring Data Nerds Final Project.ipynb",
      "version": "0.3.2",
      "provenance": [],
      "collapsed_sections": [],
      "include_colab_link": true
    },
    "kernelspec": {
      "name": "python3",
      "display_name": "Python 3"
    }
  },
  "cells": [
    {
      "cell_type": "markdown",
      "metadata": {
        "id": "view-in-github",
        "colab_type": "text"
      },
      "source": [
        "<a href=\"https://colab.research.google.com/github/lstrouse/430homework/blob/master/Aspiring_Data_Nerds_Final_Project.ipynb\" target=\"_parent\"><img src=\"https://colab.research.google.com/assets/colab-badge.svg\" alt=\"Open In Colab\"/></a>"
      ]
    },
    {
      "metadata": {
        "colab_type": "text",
        "id": "B3KCD1f_XEKb"
      },
      "cell_type": "markdown",
      "source": [
        "Setting up this notebook for us to work collaboratively on the Python code for our project"
      ]
    },
    {
      "metadata": {
        "id": "2_-EY1bJiQWd",
        "colab_type": "code",
        "colab": {}
      },
      "cell_type": "code",
      "source": [
        "#Introduction to the project/text"
      ],
      "execution_count": 0,
      "outputs": []
    },
    {
      "metadata": {
        "id": "V3SmRRfHXNWg",
        "colab_type": "code",
        "colab": {}
      },
      "cell_type": "code",
      "source": [
        "#Import appropriate libraries needed for this project"
      ],
      "execution_count": 0,
      "outputs": []
    }
  ]
}